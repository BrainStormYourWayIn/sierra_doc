{
  "nbformat": 4,
  "nbformat_minor": 0,
  "metadata": {
    "colab": {
      "name": "bookshelf.ipynb",
      "provenance": [],
      "collapsed_sections": [],
      "authorship_tag": "ABX9TyPIERf62V5aNoJ9rCSbOQhy",
      "include_colab_link": true
    },
    "kernelspec": {
      "name": "python3",
      "display_name": "Python 3"
    },
    "language_info": {
      "name": "python"
    }
  },
  "cells": [
    {
      "cell_type": "markdown",
      "metadata": {
        "id": "view-in-github",
        "colab_type": "text"
      },
      "source": [
        "<a href=\"https://colab.research.google.com/github/BrainStormYourWayIn/sierra_doc/blob/main/bookshelf.ipynb\" target=\"_parent\"><img src=\"https://colab.research.google.com/assets/colab-badge.svg\" alt=\"Open In Colab\"/></a>"
      ]
    },
    {
      "cell_type": "code",
      "metadata": {
        "colab": {
          "base_uri": "https://localhost:8080/"
        },
        "id": "0bZhs9dI-1lk",
        "outputId": "ba4eb547-3264-41b5-89cd-33109a77700c"
      },
      "source": [
        "!pip install sierra\n",
        "!pip install flask_ngrok\n",
        "\n",
        "import os\n",
        "\n",
        "mypath = 'templates/'\n",
        "if not os.path.isdir(mypath):\n",
        "   os.makedirs(mypath)\n",
        "\n",
        "with open('templates/form.html', 'w') as f:\n",
        "    f.write('''\n",
        "<!DOCTYPE html>\n",
        "<html lang=\"en\">\n",
        " <meta charset=\"utf-8\"/>\n",
        " <head>\n",
        "  <title>\n",
        "   test\n",
        "  </title>\n",
        "  <link href=\"/static/style.css\" rel=\"stylesheet\"/>\n",
        " </head>\n",
        " <body>\n",
        "  <form action=\"/\" method=\"post\">\n",
        "   <label for=\"bookname\">\n",
        "    Book Name:\n",
        "    <input id=\"bookname\" name=\"bookname\" placeholder=\"bookname\" type=\"text\"/>\n",
        "   </label>\n",
        "   <label for=\"authorname\">\n",
        "    Author's Name:\n",
        "    <input id=\"authorname\" name=\"authname\" placeholder=\"authorname\" type=\"text\"/>\n",
        "   </label>\n",
        "   <button type=\"submit\">\n",
        "    Search\n",
        "   </button>\n",
        "  </form>\n",
        "  <p>\n",
        "      Try searching for 'Automate the Boring Stuff with Python'\n",
        "  </p>\n",
        "  <p>\n",
        "      Enter only one of the two fields. Entering both results in ignoring the author's name field.\n",
        "  </p>\n",
        " </body>\n",
        "</html>\n",
        "''')\n",
        "# http://libgen.rs/search.php?req=sri+m&open=0&res=25&view=simple&phrase=1&column=author  --> author\n",
        "\n",
        "# http://libgen.rs/search.php?req=sri+m&lg_topic=libgen&open=0&view=simple&res=25&phrase=1&column=title  --> title"
      ],
      "execution_count": 1,
      "outputs": [
        {
          "output_type": "stream",
          "text": [
            "Requirement already satisfied: sierra in /usr/local/lib/python3.7/dist-packages (2.2.0)\n",
            "Requirement already satisfied: pandas in /usr/local/lib/python3.7/dist-packages (from sierra) (1.1.5)\n",
            "Requirement already satisfied: beautifulsoup4 in /usr/local/lib/python3.7/dist-packages (from sierra) (4.6.3)\n",
            "Requirement already satisfied: numpy>=1.15.4 in /usr/local/lib/python3.7/dist-packages (from pandas->sierra) (1.19.5)\n",
            "Requirement already satisfied: pytz>=2017.2 in /usr/local/lib/python3.7/dist-packages (from pandas->sierra) (2018.9)\n",
            "Requirement already satisfied: python-dateutil>=2.7.3 in /usr/local/lib/python3.7/dist-packages (from pandas->sierra) (2.8.1)\n",
            "Requirement already satisfied: six>=1.5 in /usr/local/lib/python3.7/dist-packages (from python-dateutil>=2.7.3->pandas->sierra) (1.15.0)\n",
            "Requirement already satisfied: flask_ngrok in /usr/local/lib/python3.7/dist-packages (0.0.25)\n",
            "Requirement already satisfied: requests in /usr/local/lib/python3.7/dist-packages (from flask_ngrok) (2.23.0)\n",
            "Requirement already satisfied: Flask>=0.8 in /usr/local/lib/python3.7/dist-packages (from flask_ngrok) (1.1.4)\n",
            "Requirement already satisfied: chardet<4,>=3.0.2 in /usr/local/lib/python3.7/dist-packages (from requests->flask_ngrok) (3.0.4)\n",
            "Requirement already satisfied: urllib3!=1.25.0,!=1.25.1,<1.26,>=1.21.1 in /usr/local/lib/python3.7/dist-packages (from requests->flask_ngrok) (1.24.3)\n",
            "Requirement already satisfied: idna<3,>=2.5 in /usr/local/lib/python3.7/dist-packages (from requests->flask_ngrok) (2.10)\n",
            "Requirement already satisfied: certifi>=2017.4.17 in /usr/local/lib/python3.7/dist-packages (from requests->flask_ngrok) (2021.5.30)\n",
            "Requirement already satisfied: Werkzeug<2.0,>=0.15 in /usr/local/lib/python3.7/dist-packages (from Flask>=0.8->flask_ngrok) (1.0.1)\n",
            "Requirement already satisfied: itsdangerous<2.0,>=0.24 in /usr/local/lib/python3.7/dist-packages (from Flask>=0.8->flask_ngrok) (1.1.0)\n",
            "Requirement already satisfied: click<8.0,>=5.1 in /usr/local/lib/python3.7/dist-packages (from Flask>=0.8->flask_ngrok) (7.1.2)\n",
            "Requirement already satisfied: Jinja2<3.0,>=2.10.1 in /usr/local/lib/python3.7/dist-packages (from Flask>=0.8->flask_ngrok) (2.11.3)\n",
            "Requirement already satisfied: MarkupSafe>=0.23 in /usr/local/lib/python3.7/dist-packages (from Jinja2<3.0,>=2.10.1->Flask>=0.8->flask_ngrok) (2.0.1)\n"
          ],
          "name": "stdout"
        }
      ]
    },
    {
      "cell_type": "code",
      "metadata": {
        "colab": {
          "base_uri": "https://localhost:8080/"
        },
        "cellView": "code",
        "id": "RDYpo2kb-9zL",
        "outputId": "dd8274f6-eed5-41d8-c70c-d1388f31d264"
      },
      "source": [
        "from flask import Flask, request, render_template, url_for, redirect\n",
        "from flask_ngrok import run_with_ngrok\n",
        "from bs4 import BeautifulSoup\n",
        "import requests\n",
        "from sierra import *\n",
        "\n",
        "app = Flask(__name__)\n",
        "run_with_ngrok(app)\n",
        "\n",
        "headers = {\n",
        "    \"User-Agent\": \"Mozilla/5.0 (Macintosh; Intel Mac OS X 10.15; rv:84.0) Gecko/20100101 Firefox/84.0\",\n",
        "}\n",
        "\n",
        "@app.route('/results')\n",
        "def something_else():\n",
        "    \n",
        "\n",
        "    b_name = request.args.get('book_name')\n",
        "    a_name = request.args.get('auth_name')\n",
        "\n",
        "    b_name = b_name.replace(' ', '+')\n",
        "    a_name = a_name.replace(' ', '+')\n",
        "\n",
        "    if b_name and not a_name or b_name and a_name:\n",
        "\n",
        "        title('Search Results', templating=True)\n",
        "        openBody()\n",
        "\n",
        "        libgen = requests.get(f'http://libgen.rs/search.php?req={b_name}&open=0&res=25&view=simple&phrase=1&column=title').text\n",
        "        libgen_soup = BeautifulSoup(libgen, 'html.parser').find_all(\"a\", title='Gen.lib.rus.ec', href=True)\n",
        "\n",
        "        for link in libgen_soup:\n",
        "            # print(link['href'])\n",
        "            link_libgen = requests.get(url=link['href'], headers=headers).text\n",
        "            link_libgen_soup = BeautifulSoup(link_libgen, 'html.parser').find_all(\"h1\")\n",
        "            for item in link_libgen_soup:\n",
        "                for thing in item.contents:\n",
        "                    writeWA(f\"<a href='{link['href']}' tagret='_blank'>{thing}</a><br/>\")\n",
        "\n",
        "        writeWA(\"<br><br>\")\n",
        "\n",
        "        page = requests.get(f'https://html.duckduckgo.com/html/?q={b_name}', headers=headers).text\n",
        "        soup = BeautifulSoup(page, 'html.parser').find_all(\"a\", class_=\"result__a\")\n",
        "\n",
        "        for link in soup:\n",
        "            writeWA(f\"<a href='{link['href']}' target='_blank'>{link.text}</a><br/>\")\n",
        "\n",
        "        writeWA(\"<br><br>\")\n",
        "\n",
        "        writeWA(f\"<a href='https://www.google.com/search?q=intitle.index+of+pdf+{b_name}'>Index search</a>\")\n",
        "    \n",
        "\n",
        "        autoPrettify()\n",
        "        write_to_template('search_results')\n",
        "        return render_template('search_results')\n",
        "\n",
        "    if a_name and not b_name:\n",
        "\n",
        "        title('Search Results', templating=True)\n",
        "        openBody()\n",
        "\n",
        "        libgen = requests.get(f'http://libgen.rs/search.php?req={a_name}&open=0&res=25&view=simple&phrase=1&column=author').text\n",
        "        libgen_soup = BeautifulSoup(libgen, 'html.parser').find_all(\"a\", title='Gen.lib.rus.ec', href=True)\n",
        "\n",
        "        for link in libgen_soup:\n",
        "            # print(link['href'])\n",
        "            link_libgen = requests.get(url=link['href'], headers=headers).text\n",
        "            link_libgen_soup = BeautifulSoup(link_libgen, 'html.parser').find_all(\"h1\")\n",
        "            for item in link_libgen_soup:\n",
        "                for thing in item.contents:\n",
        "                    writeWA(f\"<a href='{link['href']}' tagret='_blank'>{thing}</a><br/>\")\n",
        "\n",
        "        writeWA(\"<br><br>\")\n",
        "\n",
        "        page = requests.get(f\"https://html.duckduckgo.com/html/?q={a_name}'s+books\", headers=headers).text\n",
        "        soup = BeautifulSoup(page, 'html.parser').find_all(\"a\", class_=\"result__a\")\n",
        "\n",
        "        for link in soup:\n",
        "            writeWA(f\"<a href='{link['href']}' target='_blank'>{link.text}</a><br/>\")\n",
        "\n",
        "        writeWA(\"<br><br>\")\n",
        "\n",
        "        writeWA(f\"<a href='https://www.google.com/search?q=intitle.index+of+pdf+{a_name}'>Index search</a>\")\n",
        "    \n",
        "\n",
        "        autoPrettify()\n",
        "        write_to_template('search_results')\n",
        "\n",
        "        return render_template('search_results')\n",
        "\n",
        "\n",
        "    if not a_name and not b_name:\n",
        "        return \"<h2>Enter either an author, or a book's name</h2>\"\n",
        "\n",
        "\n",
        "    # return render_template('search_results')               \n",
        "\n",
        "\n",
        "\n",
        "@app.route('/', methods =[\"GET\", \"POST\"])\n",
        "def gfg():\n",
        "    if request.method == \"POST\":\n",
        "\n",
        "        book_name = request.form['bookname']\n",
        "        author_name = request.form['authname']\n",
        "\n",
        "        return redirect(url_for('something_else', book_name=book_name, auth_name=author_name))\n",
        "\n",
        "    return render_template('form.html')\n",
        "\n",
        "# from google.colab.output import eval_js\n",
        "# print(eval_js(\"google.colab.kernel.proxyPort(8000)\"))\n",
        "\n",
        "if __name__ == '__main__':\n",
        "    # app.run(debug=False, port=8000)\n",
        "    app.run()"
      ],
      "execution_count": 4,
      "outputs": [
        {
          "output_type": "stream",
          "text": [
            " * Serving Flask app \"__main__\" (lazy loading)\n",
            " * Environment: production\n",
            "\u001b[31m   WARNING: This is a development server. Do not use it in a production deployment.\u001b[0m\n",
            "\u001b[2m   Use a production WSGI server instead.\u001b[0m\n",
            " * Debug mode: off\n"
          ],
          "name": "stdout"
        },
        {
          "output_type": "stream",
          "text": [
            " * Running on http://127.0.0.1:5000/ (Press CTRL+C to quit)\n"
          ],
          "name": "stderr"
        },
        {
          "output_type": "stream",
          "text": [
            " * Running on http://c50fa3148e63.ngrok.io\n",
            " * Traffic stats available on http://127.0.0.1:4040\n"
          ],
          "name": "stdout"
        },
        {
          "output_type": "stream",
          "text": [
            "127.0.0.1 - - [15/Jul/2021 06:59:10] \"\u001b[37mGET / HTTP/1.1\u001b[0m\" 200 -\n",
            "127.0.0.1 - - [15/Jul/2021 06:59:10] \"\u001b[33mGET /static/style.css HTTP/1.1\u001b[0m\" 404 -\n",
            "127.0.0.1 - - [15/Jul/2021 06:59:11] \"\u001b[33mGET /favicon.ico HTTP/1.1\u001b[0m\" 404 -\n",
            "127.0.0.1 - - [15/Jul/2021 06:59:39] \"\u001b[32mPOST / HTTP/1.1\u001b[0m\" 302 -\n",
            "<class 'str'>:186: UserWarning: Auto prettifying also involves auto closing unclosed HTML tags which may not be accurate \n",
            "if not used after development is complete. \n",
            "Use after all development for best results. See \"bs4 auto closing tags\" for more info.\n",
            "127.0.0.1 - - [15/Jul/2021 06:59:54] \"\u001b[37mGET /results?book_name=automate+the+boring+stuff+with+python&auth_name= HTTP/1.1\u001b[0m\" 200 -\n",
            "127.0.0.1 - - [15/Jul/2021 06:59:55] \"\u001b[33mGET /static/style.css HTTP/1.1\u001b[0m\" 404 -\n"
          ],
          "name": "stderr"
        }
      ]
    },
    {
      "cell_type": "code",
      "metadata": {
        "id": "ZKPGEpmAc4Jj"
      },
      "source": [
        ""
      ],
      "execution_count": 2,
      "outputs": []
    }
  ]
}
